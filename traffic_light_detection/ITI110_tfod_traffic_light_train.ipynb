{
 "cells": [
  {
   "cell_type": "markdown",
   "metadata": {},
   "source": [
    "This notebook is use to train Tensorflow Object Detection API on Colab."
   ]
  },
  {
   "cell_type": "markdown",
   "metadata": {
    "colab_type": "text",
    "id": "imfVPFoIPMMe"
   },
   "source": [
    "# Environment Setup  \n",
    "\n",
    "Specify tensorflow version. The method in this notebook only support TF 1.14 and above. Otherwise other installation method is required."
   ]
  },
  {
   "cell_type": "code",
   "execution_count": 0,
   "metadata": {
    "colab": {},
    "colab_type": "code",
    "id": "WcYQjjGQL9o4"
   },
   "outputs": [],
   "source": [
    "!pip3 install tensorflow==1.14 ## Change Here"
   ]
  },
  {
   "cell_type": "markdown",
   "metadata": {
    "colab_type": "text",
    "id": "O3C9AkSgPPLo"
   },
   "source": [
    "## Configure Tensorflow version"
   ]
  },
  {
   "cell_type": "code",
   "execution_count": 0,
   "metadata": {
    "colab": {},
    "colab_type": "code",
    "id": "7jOZB-ITMBIF"
   },
   "outputs": [],
   "source": [
    "# Restart runtime using 'Runtime' -> 'Restart runtime...'\n",
    "# %tensorflow_version 2.x\n",
    "%tensorflow_version 1.x\n",
    "import tensorflow as tf\n",
    "\n",
    "print(tf.__version__)\n",
    "device_name = tf.test.gpu_device_name()\n",
    "if device_name != '/device:GPU:0':\n",
    "  raise SystemError('GPU device not found')\n",
    "print('Found GPU at: {}'.format(device_name))"
   ]
  },
  {
   "cell_type": "markdown",
   "metadata": {
    "colab_type": "text",
    "id": "cZa5RJlWPUNZ"
   },
   "source": [
    "## Mount Google Drive"
   ]
  },
  {
   "cell_type": "code",
   "execution_count": 0,
   "metadata": {
    "colab": {},
    "colab_type": "code",
    "id": "5twDUfqgVyzK"
   },
   "outputs": [],
   "source": [
    "import os\n",
    "try:\n",
    "  from google.colab import drive \n",
    "  drive.mount(\"/content/drive\")\n",
    "  IN_COLAB = True\n",
    "except:\n",
    "  IN_COLAB = False"
   ]
  },
  {
   "cell_type": "markdown",
   "metadata": {
    "colab_type": "text",
    "id": "7cTHlIv_PWca"
   },
   "source": [
    "## Import Python Libraries  "
   ]
  },
  {
   "cell_type": "code",
   "execution_count": 0,
   "metadata": {
    "colab": {},
    "colab_type": "code",
    "id": "bneEztk8NTYm"
   },
   "outputs": [],
   "source": [
    "import numpy as np\n",
    "import os\n",
    "import six.moves.urllib as urllibcategory_index\n",
    "import sys\n",
    "import tarfile\n",
    "import tensorflow as tf\n",
    "import zipfile\n",
    "from tqdm import tqdm\n",
    "from shutil import copy2\n",
    "\n",
    "from distutils.version import StrictVersion\n",
    "from collections import defaultdict\n",
    "from io import StringIO\n",
    "from matplotlib import pyplot as plt\n",
    "from PIL import Image"
   ]
  },
  {
   "cell_type": "markdown",
   "metadata": {
    "colab_type": "text",
    "id": "s83x8o1SPaC9"
   },
   "source": [
    "## Setup Path"
   ]
  },
  {
   "cell_type": "code",
   "execution_count": 0,
   "metadata": {
    "colab": {},
    "colab_type": "code",
    "id": "17rwxLFQMGVw"
   },
   "outputs": [],
   "source": [
    "PROJ_PATH = '/content/drive/My Drive/NYP_Coursework/ITI110/'\n",
    "\n",
    "LINK_PATH = '/content/ITI110/'\n",
    "LOCAL_PATH = '/content/tfod/'\n",
    "TFOD_PATH = '/content/models/research/'\n",
    "DATA_PATH = os.path.join(LINK_PATH, 'data')\n",
    "## Export environment variables\n",
    "os.environ['PROJ_PATH'] = PROJ_PATH\n",
    "os.environ['DATA_PATH'] = DATA_PATH\n",
    "os.environ['LINK_PATH'] = LINK_PATH\n",
    "os.environ['TFOD_PATH'] = TFOD_PATH"
   ]
  },
  {
   "cell_type": "markdown",
   "metadata": {
    "colab_type": "text",
    "id": "ADurkNLxPKxE"
   },
   "source": [
    "## Setup Link Directory"
   ]
  },
  {
   "cell_type": "code",
   "execution_count": 0,
   "metadata": {
    "colab": {},
    "colab_type": "code",
    "id": "qIKI_fI5Np1Z"
   },
   "outputs": [],
   "source": [
    "%%shell\n",
    "\n",
    "## Source Path \n",
    "export GDRIVE_PROJ_PATH=$PROJ_PATH\n",
    "export LINK_PROJ_PATH=\"/content/\"\n",
    "\n",
    "echo $GDRIVE_PROJ_PAT\n",
    "ln -s \"$GDRIVE_PROJ_PATH\" $LINK_PROJ_PATH"
   ]
  },
  {
   "cell_type": "markdown",
   "metadata": {
    "colab_type": "text",
    "id": "JMmYEbQ8PAVl"
   },
   "source": [
    "# Install TFOD Library from Github  \n",
    "Download model from zoo. This step is required everytime the session died. Setup and installation would take about 5 minutes."
   ]
  },
  {
   "cell_type": "code",
   "execution_count": 0,
   "metadata": {
    "colab": {},
    "colab_type": "code",
    "id": "sXzMKX7c49Qw"
   },
   "outputs": [],
   "source": [
    "!apt-get install protobuf-compiler python-pil python-lxml python-tk\n",
    "!pip install Cython\n",
    "#!pip install jupyter\n",
    "#!pip install matplotlib\n",
    "\n",
    "!git clone https://github.com/tensorflow/models.git\n",
    "\n",
    "%cd /content/models/research\n",
    "\n",
    "!protoc object_detection/protos/*.proto --python_out=.\n",
    "\n",
    "%set_env PYTHONPATH=/content/models/research:/content/models/research/slim\n",
    "\n",
    "!python object_detection/builders/model_builder_test.py"
   ]
  },
  {
   "cell_type": "markdown",
   "metadata": {
    "colab_type": "text",
    "id": "orRvyuHJecu7"
   },
   "source": [
    "### Copy training data from cloud into Colab instance  \n",
    "\n",
    "Folder Structure:  \n",
    "|--/content/  \n",
    "|----tfod/  \n",
    "|--------data/  \n",
    "|------------images/  \n",
    "|------------annotations/  \n",
    "|------------label_map.pbtxt  \n",
    "|------------train.record-00000-of-xxxxx  \n",
    "|------------validation.record-00000-of-xxxxx  \n",
    "|--------models/  \n",
    "|------------model configuration.config"
   ]
  },
  {
   "cell_type": "code",
   "execution_count": 0,
   "metadata": {
    "colab": {},
    "colab_type": "code",
    "id": "4OSt1Me7COIl"
   },
   "outputs": [],
   "source": [
    "%%shell\n",
    "mkdir  /content/tfod/\n",
    "mkdir  /content/tfod/data/\n",
    "mkdir  /content/tfod/models/\n",
    "cp -rf $LINK_PATH/data/ /content/tfod/\n",
    "cp -rf $LINK_PATH/models/*.config /content/tfod/models/"
   ]
  },
  {
   "cell_type": "markdown",
   "metadata": {
    "colab_type": "text",
    "id": "Xn2Wm0PeIJGl"
   },
   "source": [
    "## Create TF Record  \n",
    "\n",
    "* if have new records uploaded then have to re-run this step.\n",
    "\n"
   ]
  },
  {
   "cell_type": "code",
   "execution_count": 0,
   "metadata": {
    "colab": {},
    "colab_type": "code",
    "id": "wQB2L7O5597R"
   },
   "outputs": [],
   "source": [
    "%%shell\n",
    "cd $LINK_PATH\n",
    "python3 create_tf_record_colab.py --data_dir $LINK_PATH/data/ \\\n",
    "        --output_dir $LINK_PATH/data/ \\\n",
    "        --label_map_path $LINK_PATH/data/label_map.pbtxt \\\n",
    "        --tfod /content/models/research/ \\\n",
    "        --num_shards 1"
   ]
  },
  {
   "cell_type": "markdown",
   "metadata": {
    "colab_type": "text",
    "id": "rAmc9pV7v-JF"
   },
   "source": [
    "### Download Pre-trained Model (COCO on SSD Mobile)  \n",
    "Download model from zoo. This step is required everytime after session died or colab instance re-initiated. \n",
    "\n",
    "Folder Structure:  \n",
    "|--/content/  \n",
    "|----pretrained_model/  \n",
    "|--------Model Zoo files\n",
    "\n"
   ]
  },
  {
   "cell_type": "code",
   "execution_count": 0,
   "metadata": {
    "colab": {},
    "colab_type": "code",
    "id": "xWGrGgEZhX8E"
   },
   "outputs": [],
   "source": [
    "%%shell\n",
    "## Download the model\n",
    "rm -r /content/pretrained_model/\n",
    "mkdir /content/pretrained_model/\n",
    "cd /content/pretrained_model/\n",
    "wget http://download.tensorflow.org/models/object_detection/ssd_mobilenet_v2_coco_2018_03_29.tar.gz\n",
    "\n",
    "## unzip the model.tar.gz file \n",
    "tar -xvf ssd_mobilenet_v2_coco_2018_03_29.tar.gz"
   ]
  },
  {
   "cell_type": "markdown",
   "metadata": {
    "colab_type": "text",
    "id": "Go40F2NtMj2H"
   },
   "source": [
    "## Run TFOD Training  \n",
    "* When using same model output folder, TFOD will resume progress from previous training  \n",
    "* Checkpoint will directly output to Google Drive if the session died. THe drawback is this will take up Google Drive space. However, TFOD have rolling checkpoint functionality which mean old checkpoints will move to bin. Once the Drive is full, old checkpoints will be automatically remove from bin (Unrecoverable)."
   ]
  },
  {
   "cell_type": "code",
   "execution_count": 0,
   "metadata": {
    "colab": {},
    "colab_type": "code",
    "id": "NXmdRibS-nZr"
   },
   "outputs": [],
   "source": [
    "%%shell\n",
    "# Example from the /content/models/research/ directory\n",
    "PIPELINE_CONFIG_PATH=/content/tfod/models/ssd_mobilenet_v2_coco.config\n",
    "\n",
    "## Directly save checkpoint at gdrive\n",
    "MODEL_DIR=/content/ITI110/models/ssd_coco_3_20_20/\n",
    "NUM_TRAIN_STEPS=2000\n",
    "SAMPLE_1_OF_N_EVAL_EXAMPLES=10\n",
    "\n",
    "python3 /content/models/research/object_detection/model_main.py \\\n",
    "    --pipeline_config_path=${PIPELINE_CONFIG_PATH} \\\n",
    "    --model_dir=${MODEL_DIR} \\\n",
    "    --num_train_steps=${NUM_TRAIN_STEPS} \\\n",
    "    --sample_1_of_n_eval_examples=$SAMPLE_1_OF_N_EVAL_EXAMPLES \\\n",
    "    --alsologtostderr"
   ]
  },
  {
   "cell_type": "markdown",
   "metadata": {
    "colab_type": "text",
    "id": "LIfghtUzUk_Z"
   },
   "source": [
    "# Export \n",
    "By default, TFOD training will only keep a few checkpoints. It would be better to run this portion at seperate notebook to export fronzen graph and let training continue to run."
   ]
  },
  {
   "cell_type": "markdown",
   "metadata": {
    "colab_type": "text",
    "id": "gYI7CyX4dMFR"
   },
   "source": [
    "## TF Frozen Graph"
   ]
  },
  {
   "cell_type": "code",
   "execution_count": 0,
   "metadata": {
    "colab": {},
    "colab_type": "code",
    "id": "LeyaGdWipuco"
   },
   "outputs": [],
   "source": [
    "%%shell\n",
    "\n",
    "PIPELINE_CONFIG_PATH=/content/ITI110/models/ssd_mobilenet_v2_coco.config\n",
    "MODEL_DIR=/content/ITI110/models/model_ssd_coco/\n",
    "\n",
    "python3 /content/models/research/object_detection/export_inference_graph.py \\\n",
    "    --input_type image_tensor \\\n",
    "    --pipeline_config_path  ${PIPELINE_CONFIG_PATH} \\\n",
    "    --trained_checkpoint_prefix /content/ITI110/models/model_ssd_coco/model.ckpt-1373  \\\n",
    "    --output_directory  /content/ITI110/models/exported_graphs "
   ]
  },
  {
   "cell_type": "markdown",
   "metadata": {
    "colab_type": "text",
    "id": "2XMqZoQ1dUKQ"
   },
   "source": [
    "## SSD Graph"
   ]
  },
  {
   "cell_type": "code",
   "execution_count": 0,
   "metadata": {
    "colab": {},
    "colab_type": "code",
    "id": "ruW3aeKneBOs"
   },
   "outputs": [],
   "source": [
    "%%shell \n",
    "\n",
    "cd  /content/models/research/object_detection\n",
    "\n",
    "python3 export_tflite_ssd_graph.py \\\n",
    "--pipeline_config_path=/content/ITI110/models/ssd_mobilenet_v2_coco.config \\\n",
    "--trained_checkpoint_prefix=/content/ITI110/best/model.ckpt-3097 \\\n",
    "--output_directory=/content/ITI110/tflite/"
   ]
  },
  {
   "cell_type": "markdown",
   "metadata": {
    "colab_type": "text",
    "id": "RAIlAXrLd108"
   },
   "source": [
    "## TFLite Conversion"
   ]
  },
  {
   "cell_type": "code",
   "execution_count": 0,
   "metadata": {
    "colab": {},
    "colab_type": "code",
    "id": "-XIqYQ4QeLb6"
   },
   "outputs": [],
   "source": [
    "%%shell \n",
    "\n",
    "cd  /content/models/research/object_detection\n",
    "\n",
    "tflite_convert \\\n",
    "--graph_def_file=/content/ITI110/tflite/tflite_graph.pb \\\n",
    "--output_file=/content/ITI110/tflite/detect.tflite \\\n",
    "--output_format=TFLITE \\\n",
    "--input_shapes=1,300,300,3 \\\n",
    "--input_arrays=normalized_input_image_tensor \\\n",
    "--output_arrays='TFLite_Detection_PostProcess','TFLite_Detection_PostProcess:1','TFLite_Detection_PostProcess:2','TFLite_Detection_PostProcess:3' \\\n",
    "--inference_type=FLOAT \\\n",
    "--mean_values=128 \\\n",
    "--std_dev_values=128 \\\n",
    "--change_concat_input_ranges=false \\\n",
    "--allow_custom_ops"
   ]
  },
  {
   "cell_type": "markdown",
   "metadata": {
    "colab_type": "text",
    "id": "BVJFjUrxVMkM"
   },
   "source": [
    "# Tensorboard  \n",
    "\n",
    "* It would be better to run this part at a seperate notebook for progress monitoring\n",
    "* It would better to put log directory at google drive for parallel access"
   ]
  },
  {
   "cell_type": "code",
   "execution_count": 0,
   "metadata": {
    "colab": {},
    "colab_type": "code",
    "id": "gAOQA2TLjnTn"
   },
   "outputs": [],
   "source": [
    "%load_ext tensorboard\n",
    "%tensorboard --logdir /content/ITI110/models/ssd_coco_3_20_20/"
   ]
  }
 ],
 "metadata": {
  "accelerator": "GPU",
  "colab": {
   "collapsed_sections": [],
   "name": "ITI110_tfod_traffic_light.ipynb",
   "private_outputs": true,
   "provenance": [],
   "toc_visible": true
  },
  "kernelspec": {
   "display_name": "Python 3",
   "language": "python",
   "name": "python3"
  },
  "language_info": {
   "codemirror_mode": {
    "name": "ipython",
    "version": 3
   },
   "file_extension": ".py",
   "mimetype": "text/x-python",
   "name": "python",
   "nbconvert_exporter": "python",
   "pygments_lexer": "ipython3",
   "version": "3.7.4"
  }
 },
 "nbformat": 4,
 "nbformat_minor": 1
}

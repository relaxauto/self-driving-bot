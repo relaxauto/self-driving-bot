{
 "cells": [
  {
   "cell_type": "markdown",
   "metadata": {},
   "source": [
    "# Self-driving JetBot Project Stub Code: Navigation Recording\n",
    "\n",
    "In this notebook, we demonstrate how you can use a joypad/game controller to \"teach\" a jetbot how to drive on track.\n",
    "\n",
    "## Take note\n",
    "\n",
    "Your model training environment (the PC / the server with GPU) should use the same version of tensorflow as the jetbot.\n",
    "\n",
    "## Library importing\n",
    "First we initialize the environment.\n"
   ]
  },
  {
   "cell_type": "code",
   "execution_count": 1,
   "metadata": {},
   "outputs": [],
   "source": [
    "from jetbot import Robot, Camera\n",
    "import time\n",
    "import ipywidgets.widgets as widgets\n",
    "from IPython.display import display\n",
    "import traitlets\n",
    "\n",
    "import numpy as np"
   ]
  },
  {
   "cell_type": "markdown",
   "metadata": {},
   "source": [
    "## Instantiting the robot and camera\n",
    "We instantiate the robot object using the jetbot API.\n",
    "\n",
    "Note that sometimes when we restart the kernels, the camera might not be re-initialized. We might need to run the following in the jetbot terminal.\n",
    "```bash\n",
    "$ sudo systemctl restart nvargus-daemon\n",
    "```"
   ]
  },
  {
   "cell_type": "code",
   "execution_count": 7,
   "metadata": {},
   "outputs": [],
   "source": [
    "robot = Robot()\n",
    "camera = Camera.instance()"
   ]
  },
  {
   "cell_type": "markdown",
   "metadata": {},
   "source": [
    "## Setting up the widgets for display and debugging\n",
    "\n",
    "Next we setup the widgets for us to \"drive\" the jetbot and monitor its status."
   ]
  },
  {
   "cell_type": "code",
   "execution_count": 2,
   "metadata": {},
   "outputs": [],
   "source": [
    "controller = widgets.Controller(\n",
    "    index=0,\n",
    ")\n",
    "\n",
    "image_widget = widgets.Image(format='jpeg', width=224, height=224)\n",
    "buttonA_widget = widgets.FloatText(value=0, description='Button A')\n",
    "buttonB_widget = widgets.FloatText(value=0, description='Button B')\n",
    "axes0_widget = widgets.FloatText(value=0, description='Axis 0')\n",
    "buttonR_widget = widgets.FloatText(value=0, description='Button R')\n",
    "left_motor_widget = widgets.FloatText(value=0, description='Left motor')\n",
    "right_motor_widget = widgets.FloatText(value=0, description='Right motor')\n",
    "debug_widget = widgets.Textarea(value=\"\",description='Debug mesg')"
   ]
  },
  {
   "cell_type": "markdown",
   "metadata": {},
   "source": [
    "We then put the widgets in a container and display it. "
   ]
  },
  {
   "cell_type": "code",
   "execution_count": 4,
   "metadata": {},
   "outputs": [],
   "source": [
    "controller_container = widgets.HBox([image_widget,controller,widgets.VBox([axes0_widget,buttonA_widget, buttonB_widget, buttonR_widget, left_motor_widget, right_motor_widget, debug_widget])])"
   ]
  },
  {
   "cell_type": "markdown",
   "metadata": {},
   "source": [
    "## Before we proceed\n",
    "\n",
    "Please connect your controller to the PC/laptop where this notebook is currently open, and press a button (any button will do.)\n",
    "\n"
   ]
  },
  {
   "cell_type": "markdown",
   "metadata": {},
   "source": [
    "## Stearing module\n",
    "\n",
    "We use a python class to connect the joypad button press to the jetbot.\n",
    "\n",
    "When the A button (accelerate) is pressed, the steering module will set the state of the jetbot motors to move forward.\n",
    "When the B button (brake) and the A button (acceleration) are pressed at the same time, it will go backward.\n",
    "When the left or right buttons from D-Pad (like a cross) is pressed, the jotbot goes left or right.\n",
    "\n",
    "Feel free to adjust the steering to accomodate your need, e.g. you may implement a manual transition system."
   ]
  },
  {
   "cell_type": "code",
   "execution_count": 5,
   "metadata": {},
   "outputs": [],
   "source": [
    "# define a steearing traitlet to observe and combine the button events\n",
    "\n",
    "SPEED = 0.3\n",
    "\n",
    "class Steering(traitlets.HasTraits):\n",
    "    left_motor = traitlets.Float()\n",
    "    right_motor = traitlets.Float()\n",
    "    def __init__(self, _acc, _brake, _left_right):\n",
    "        \n",
    "        self.acc = _acc\n",
    "        self.brake = _brake\n",
    "        self.left_right = _left_right\n",
    "        super().__init__()\n",
    "        self.set_notifiers()\n",
    "        \n",
    "    def func(self, change):\n",
    "        speed = -(self.acc.value * SPEED) if self.brake.value > 0 else self.acc.value * SPEED\n",
    "        self.right_motor = speed if self.left_right.value < (-0.5) else (speed * 0.5)\n",
    "        self.left_motor = speed if self.left_right.value > (0.5) else (speed * 0.5)\n",
    "        # print(change)\n",
    "        \n",
    "    def set_notifiers(self):\n",
    "        traitlets.HasTraits.observe(self.acc, self.func, 'value')\n",
    "        traitlets.HasTraits.observe(self.brake, self.func, 'value')\n",
    "        traitlets.HasTraits.observe(self.left_right, self.func, 'value')\n",
    "\n",
    "stearing = Steering(controller.buttons[1], controller.buttons[2], controller.axes[0])\n"
   ]
  },
  {
   "cell_type": "markdown",
   "metadata": {},
   "source": [
    "## Linking up\n",
    "\n",
    "We link up the camera, the joypad controller, the widget display, the steering module and the jetbot motors using the `traitlets.dlink()` method.\n",
    "\n",
    "`traitlets.dlink(r1, r2)` create a one-direction observer on the value of `r1`, whenever it changes, it propogates the value to `r2` value asyncronously. This gives us a good abstraction for concurrency."
   ]
  },
  {
   "cell_type": "code",
   "execution_count": 8,
   "metadata": {},
   "outputs": [],
   "source": [
    "from jetbot import bgr8_to_jpeg\n",
    "try: camera_link\n",
    "except NameError: camera_link = None\n",
    "\n",
    "if camera_link:\n",
    "    camera_link.unlink()\n",
    "    \n",
    "camera_link = traitlets.dlink((camera, 'value'), (image_widget, 'value'), transform=bgr8_to_jpeg)\n",
    "\n",
    "try: button_a_label_link\n",
    "except NameError: button_a_label_link = None\n",
    "\n",
    "if button_a_label_link:\n",
    "    button_a_label_link.unlink()\n",
    "\n",
    "button_a_label_link = traitlets.dlink((controller.buttons[1], 'value'), (buttonA_widget, 'value'))\n",
    "\n",
    "try: button_b_label_link\n",
    "except NameError: button_b_label_link = None\n",
    "\n",
    "if button_b_label_link:\n",
    "    button_b_label_link.unlink()        \n",
    "\n",
    "button_b_label_link = traitlets.dlink((controller.buttons[2], 'value'), (buttonB_widget, 'value'))\n",
    "'''\n",
    "\n",
    "try: button_r_label_link\n",
    "except NameError: button_r_label_link = None\n",
    "\n",
    "if button_r_label_link:\n",
    "    button_r_label_link.unlink()        \n",
    "\n",
    "button_r_label_link = traitlets.dlink((controller.buttons[5], 'value'), (buttonR_widget, 'value'))\n",
    "\n",
    "\n",
    "try: axis_0_label_link\n",
    "except NameError: axis_0_label_link = None\n",
    "\n",
    "if axis_0_label_link:\n",
    "    axis_0_label_link.unlink()\n",
    "\n",
    "axis_0_label_link = traitlets.dlink((controller.axes[0], 'value'), (axes0_widget, 'value'))\n",
    "\n",
    "try: steering_left_link\n",
    "except NameError: steering_left_link = None\n",
    "\n",
    "if steering_left_link:\n",
    "    steering_left_link.unlink()\n",
    "\n",
    "steering_left_link = traitlets.dlink((stearing, 'left_motor'), (left_motor_widget, 'value'))\n",
    "\n",
    "try: steering_right_link\n",
    "except NameError: steering_right_link = None\n",
    "\n",
    "if steering_right_link:\n",
    "    steering_right_link.unlink()\n",
    "    \n",
    "steering_right_link = traitlets.dlink((stearing, 'right_motor'), (right_motor_widget, 'value'))\n",
    "'''\n",
    "\n",
    "try: left_link\n",
    "except NameError: left_link = None\n",
    "if left_link:\n",
    "    left_link.unlink()\n",
    "left_link = traitlets.dlink((stearing, 'left_motor'), (robot.left_motor, 'value'))\n",
    "\n",
    "try: right_link\n",
    "except NameError: right_link = None\n",
    "if right_link:\n",
    "    right_link.unlink()\n",
    "right_link = traitlets.dlink((stearing, 'right_motor'), (robot.right_motor, 'value'))\n"
   ]
  },
  {
   "cell_type": "markdown",
   "metadata": {},
   "source": [
    "## Recording the training session\n",
    "\n",
    "To record the training inputs (e.g. the camera value) and the labels (e.g. the left motor and right motor values). We use a syncronous approach. \n",
    "\n",
    "We create a recorder class object which takes down the camera value, the motor values and writes them into a numpy array (which will be seralized into a npy file) periodically. The FPS variable controls how often the recording should (re-)occur.\n",
    "\n",
    "Note that for simplicity, we only record the camera value and motor values, feel free to add other values into the recording based on your need.\n"
   ]
  },
  {
   "cell_type": "code",
   "execution_count": 49,
   "metadata": {},
   "outputs": [],
   "source": [
    "import threading, os\n",
    "import time\n",
    "\n",
    "direction = 't2_curve'\n",
    "\n",
    "file_path = os.path.join(os.getcwd(),'data', '%s_%s' % (direction, time.strftime(\"%Y_%b_%d_%H_%M_%S\", time.gmtime())))\n",
    "FPS = 10\n",
    "class Recorder(threading.Thread):\n",
    "    \n",
    "    writer = None\n",
    "    camera = None\n",
    "    left_motor = None\n",
    "    right_motor = None\n",
    "    axis = None\n",
    "    a_button = None\n",
    "    b_button = None\n",
    "    is_recording = False\n",
    "    fps = 10\n",
    "    buffer_size = 512\n",
    "    buffer = []\n",
    "    def __init__(self, fps, _a_button, _b_button, _axis, _left_motor, _right_motor,  _camera, file_path):\n",
    "        self.left_motor = _left_motor\n",
    "        self.right_motor = _right_motor\n",
    "        self.axis = _axis\n",
    "        self.a_button = _a_button\n",
    "        self.b_button = _b_button\n",
    "        self.camera = _camera\n",
    "        self.fps = fps\n",
    "        threading.Thread.__init__(self)\n",
    "\n",
    "    def run(self):\n",
    "        self.is_recording = True\n",
    "        print(time.time())\n",
    "        self.loop()\n",
    "        \n",
    "    def save_buffer(self):\n",
    "        file_path = os.path.join(os.getcwd(),'data', '%s_%s' % (direction, time.strftime(\"%Y%m%d_%H%M%S\", time.gmtime())))\n",
    "        np.save(file_path, self.buffer)\n",
    "        self.buffer = []\n",
    "    \n",
    "    def loop(self):\n",
    "        while self.is_recording: \n",
    "            if len(self.buffer) >= self.buffer_size:\n",
    "                self.save_buffer()\n",
    "            time.sleep(1/self.fps)\n",
    "            image = self.camera.value\n",
    "            lvalue = self.left_motor.value\n",
    "            rvalue = self.right_motor.value\n",
    "            self.buffer.append([lvalue, rvalue, image])\n",
    "            \n",
    "            \n",
    "    def stop(self):\n",
    "        self.is_recording = False\n",
    "        print(time.time)\n",
    "        if len(self.buffer) > 0:\n",
    "                self.save_buffer()\n"
   ]
  },
  {
   "cell_type": "markdown",
   "metadata": {},
   "source": [
    "### Run the following to start the recording"
   ]
  },
  {
   "cell_type": "code",
   "execution_count": 50,
   "metadata": {},
   "outputs": [
    {
     "data": {
      "application/vnd.jupyter.widget-view+json": {
       "model_id": "e85dbc072a6b409d9c3c69d2e5b967cb",
       "version_major": 2,
       "version_minor": 0
      },
      "text/plain": [
       "HBox(children=(Image(value=b'\\xff\\xd8\\xff\\xe0\\x00\\x10JFIF\\x00\\x01\\x01\\x00\\x00\\x01\\x00\\x01\\x00\\x00\\xff\\xdb\\x00C…"
      ]
     },
     "metadata": {},
     "output_type": "display_data"
    }
   ],
   "source": [
    "display(controller_container)"
   ]
  },
  {
   "cell_type": "code",
   "execution_count": 69,
   "metadata": {},
   "outputs": [
    {
     "name": "stdout",
     "output_type": "stream",
     "text": [
      "1582352959.5366938\n"
     ]
    }
   ],
   "source": [
    "recorder = Recorder(FPS, controller.buttons[1], controller.buttons[2], controller.axes[0], robot.left_motor, robot.right_motor, camera, file_path)\n",
    "recorder.start()"
   ]
  },
  {
   "cell_type": "markdown",
   "metadata": {},
   "source": [
    "### Run the following to stop the recording"
   ]
  },
  {
   "cell_type": "code",
   "execution_count": 70,
   "metadata": {},
   "outputs": [
    {
     "name": "stdout",
     "output_type": "stream",
     "text": [
      "<built-in function time>\n"
     ]
    }
   ],
   "source": [
    "recorder.stop()"
   ]
  },
  {
   "cell_type": "code",
   "execution_count": 22,
   "metadata": {},
   "outputs": [],
   "source": [
    "robot.stop()"
   ]
  },
  {
   "cell_type": "code",
   "execution_count": null,
   "metadata": {},
   "outputs": [],
   "source": []
  }
 ],
 "metadata": {
  "kernelspec": {
   "display_name": "Python 3",
   "language": "python",
   "name": "python3"
  },
  "language_info": {
   "codemirror_mode": {
    "name": "ipython",
    "version": 3
   },
   "file_extension": ".py",
   "mimetype": "text/x-python",
   "name": "python",
   "nbconvert_exporter": "python",
   "pygments_lexer": "ipython3",
   "version": "3.6.9"
  }
 },
 "nbformat": 4,
 "nbformat_minor": 4
}

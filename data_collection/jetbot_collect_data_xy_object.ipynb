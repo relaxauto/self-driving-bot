{
 "cells": [
  {
   "cell_type": "code",
   "execution_count": 1,
   "metadata": {},
   "outputs": [],
   "source": [
    "from jetbot import Camera, bgr8_to_jpeg, Robot\n",
    "import ipywidgets.widgets as widgets\n",
    "from IPython.display import display\n",
    "import traitlets, glob, os, cv2, math, time\n",
    "from uuid import uuid1\n",
    "import numpy as np\n",
    "from pathlib import Path"
   ]
  },
  {
   "cell_type": "code",
   "execution_count": 2,
   "metadata": {},
   "outputs": [],
   "source": [
    "robot = Robot()\n",
    "camera = Camera.instance()"
   ]
  },
  {
   "cell_type": "markdown",
   "metadata": {},
   "source": [
    "# Configure drive function"
   ]
  },
  {
   "cell_type": "code",
   "execution_count": 3,
   "metadata": {},
   "outputs": [],
   "source": [
    "controller = widgets.Controller(index=0)\n",
    "\n",
    "controller_container = widgets.HBox([controller])"
   ]
  },
  {
   "cell_type": "markdown",
   "metadata": {},
   "source": [
    "## Test Contoller"
   ]
  },
  {
   "cell_type": "code",
   "execution_count": 4,
   "metadata": {},
   "outputs": [],
   "source": [
    "# define a steearing traitlet to observe and combine the button events\n",
    "\n",
    "SPEED = 0.2\n",
    "\n",
    "class Steering(traitlets.HasTraits):\n",
    "    left_motor = traitlets.Float()\n",
    "    right_motor = traitlets.Float()\n",
    "    def __init__(self, _acc, _brake, _left_right):\n",
    "        \n",
    "        self.acc = _acc\n",
    "        self.brake = _brake\n",
    "        self.left_right = _left_right\n",
    "        super().__init__()\n",
    "        self.set_notifiers()\n",
    "        \n",
    "    def func(self, change):\n",
    "        speed = -(self.acc.value * SPEED) if self.brake.value > 0 else self.acc.value * SPEED\n",
    "        self.right_motor = speed if self.left_right.value < (-0.5) else (speed * 0.5)\n",
    "        self.left_motor = speed if self.left_right.value > (0.5) else (speed * 0.5)\n",
    "        # print(change)\n",
    "        \n",
    "    def set_notifiers(self):\n",
    "        traitlets.HasTraits.observe(self.acc, self.func, 'value')\n",
    "        traitlets.HasTraits.observe(self.brake, self.func, 'value')\n",
    "        traitlets.HasTraits.observe(self.left_right, self.func, 'value')\n",
    "\n",
    "stearing = Steering(controller.buttons[1], controller.buttons[2], controller.axes[0])"
   ]
  },
  {
   "cell_type": "markdown",
   "metadata": {},
   "source": [
    "# Create Data Folder"
   ]
  },
  {
   "cell_type": "code",
   "execution_count": 2,
   "metadata": {},
   "outputs": [],
   "source": [
    "dataset_dir = os.path.join(os.getcwd(), 'dataset')\n",
    "traffic_dir = os.path.join(dataset_dir, 'traffic')\n",
    "blocked_dir = os.path.join(dataset_dir, 'blocked')\n",
    "free_dir    = os.path.join(dataset_dir, 'free')\n",
    "\n",
    "# we have this \"try/except\" statement because these next functions can throw an error if the directories exist already\n",
    "try:\n",
    "    #os.makedirs(dataset_dir)\n",
    "    Path(dataset_dir).mkdir(parents=True, exist_ok=True)\n",
    "    Path(traffic_dir).mkdir(parents=True, exist_ok=True)\n",
    "    Path(blocked_dir).mkdir(parents=True, exist_ok=True)\n",
    "    Path(free_dir).mkdir(parents=True, exist_ok=True)\n",
    "except FileExistsError:\n",
    "    print('Directories not created becasue they already exist')"
   ]
  },
  {
   "cell_type": "markdown",
   "metadata": {},
   "source": [
    "# Functions  \n",
    "Functions to capture x y, traffic lights (R,G,A), and blocked data"
   ]
  },
  {
   "cell_type": "code",
   "execution_count": 6,
   "metadata": {},
   "outputs": [],
   "source": [
    "def display_xy(camera_image):\n",
    "    '''\n",
    "    Display Direction\n",
    "    '''\n",
    "    image = np.copy(camera_image)\n",
    "    x = x_slider.value\n",
    "    y = y_slider.value\n",
    "    x = int(x * 224 / 2 + 112)\n",
    "    y = int(y * 224 / 2 + 112)\n",
    "    image = cv2.circle(image, (x, y), 8, (0, 255, 0), 3)\n",
    "    image = cv2.circle(image, (112, 224), 8, (0, 0,255), 3)\n",
    "    image = cv2.line(image, (x,y), (112,224), (255,0,0), 3)\n",
    "    jpeg_image = bgr8_to_jpeg(image)\n",
    "    return jpeg_image    \n",
    "\n",
    "def xy_uuid(x, y):\n",
    "    return 'xy_%03d_%03d_%s' % (x * 50 + 50, y * 50 + 50, uuid1())\n",
    "\n",
    "def get_xy_path(x, y, path, label):\n",
    "    '''\n",
    "    This functions is to generate x (left right), y (forward, back) data on file name\n",
    "    label: R=Red Light, A=Yellow Light, G=Green Light, B = Blocked, F = Free\n",
    "    '''\n",
    "    # Calculate i based on number of files in the directories\n",
    "    i = len(glob.glob(os.path.join(path, '*.jpg'))) +1\n",
    "    \n",
    "    ## Final file name format\n",
    "    ## xy_XXX_YYY_<Label>_<Number_Of_Files>.jpg\n",
    "    ## Ideally each class at least to have 100 images for good result. \n",
    "    ## (Traffic lights will be 100 each)\n",
    "    \n",
    "    image_path = os.path.join(path,'xy_%03d_%03d_%s_%d.jpg' % (x * 50 + 50, y * 50 + 50,label, i))\n",
    "    \n",
    "    return image_path"
   ]
  },
  {
   "cell_type": "markdown",
   "metadata": {},
   "source": [
    "## Traffic Light\n",
    "\n",
    "Capture traffic lights image then label with different tag on file name.  \n",
    "* R for Red\n",
    "* A for Amber\n",
    "* G for Green  \n",
    "\n",
    "This will required 3 buttons to be used. (L1, R1, R2)"
   ]
  },
  {
   "cell_type": "code",
   "execution_count": 7,
   "metadata": {},
   "outputs": [],
   "source": [
    "def save_red_light(change):\n",
    "    if change['new']:\n",
    "        path  = traffic_dir\n",
    "        label = 'R'\n",
    "        image_path = get_xy_path(x_slider.value, y_slider.value, path, label)\n",
    "        with open(image_path, 'wb') as f:\n",
    "            f.write(image_widget.value)\n",
    "        traffic_count_widget.value = len(glob.glob(os.path.join(path, '*.jpg')))\n",
    "        \n",
    "def save_amber_light(change):\n",
    "    if change['new']:\n",
    "        path  = traffic_dir\n",
    "        label = 'A'\n",
    "        image_path = get_xy_path(x_slider.value, y_slider.value, path, label)\n",
    "        with open(image_path, 'wb') as f:\n",
    "            f.write(image_widget.value)\n",
    "        traffic_count_widget.value = len(glob.glob(os.path.join(path, '*.jpg')))\n",
    "        \n",
    "def save_green_light(change):\n",
    "    if change['new']:\n",
    "        path  = traffic_dir\n",
    "        label = 'G'\n",
    "        image_path = get_xy_path(x_slider.value, y_slider.value, path, label)\n",
    "        with open(image_path, 'wb') as f:\n",
    "            f.write(image_widget.value)\n",
    "        traffic_count_widget.value = len(glob.glob(os.path.join(path, '*.jpg')))"
   ]
  },
  {
   "cell_type": "markdown",
   "metadata": {},
   "source": [
    "## Blocked Object"
   ]
  },
  {
   "cell_type": "code",
   "execution_count": 8,
   "metadata": {},
   "outputs": [],
   "source": [
    "def save_blocked_snapshot(change):\n",
    "    if change['new']:\n",
    "        path  = blocked_dir\n",
    "        label = 'B'\n",
    "        image_path = get_xy_path(x_slider.value, y_slider.value, path, label)\n",
    "        with open(image_path, 'wb') as f:\n",
    "            f.write(image_widget.value)\n",
    "        blk_count_widget.value = len(glob.glob(os.path.join(path, '*.jpg')))\n",
    "\n",
    "def save_free_snapshot(change):\n",
    "    if change['new']:\n",
    "        path  = free_dir\n",
    "        label = 'F'\n",
    "        image_path = get_xy_path(x_slider.value, y_slider.value, path, label)\n",
    "        with open(image_path, 'wb') as f:\n",
    "            f.write(image_widget.value)\n",
    "        fre_count_widget.value = len(glob.glob(os.path.join(path, '*.jpg')))\n",
    "\n"
   ]
  },
  {
   "cell_type": "markdown",
   "metadata": {},
   "source": [
    "## Setup buttons"
   ]
  },
  {
   "cell_type": "code",
   "execution_count": 9,
   "metadata": {},
   "outputs": [
    {
     "data": {
      "application/vnd.jupyter.widget-view+json": {
       "model_id": "fe1f1418a770411084674dfb755c005c",
       "version_major": 2,
       "version_minor": 0
      },
      "text/plain": [
       "HBox(children=(Controller(axes=(Axis(value=0.0039215686274509665), Axis(value=0.0039215686274509665), Axis(val…"
      ]
     },
     "metadata": {},
     "output_type": "display_data"
    }
   ],
   "source": [
    "display(controller_container)"
   ]
  },
  {
   "cell_type": "markdown",
   "metadata": {},
   "source": [
    "* L1: Red\n",
    "* R1: Amber\n",
    "* R2: Green\n",
    "* Y : Blocked\n",
    "* X : Free"
   ]
  },
  {
   "cell_type": "code",
   "execution_count": 10,
   "metadata": {},
   "outputs": [],
   "source": [
    "## Free up all buttons. Execute this whenever the functions has changed.\n",
    "for b in controller.buttons:\n",
    "    b.unobserve_all()\n",
    "\n",
    "controller.buttons[4].observe(save_red_light, names='value')\n",
    "controller.buttons[5].observe(save_amber_light, names='value')\n",
    "controller.buttons[7].observe(save_green_light, names='value')\n",
    "\n",
    "controller.buttons[0].observe(save_blocked_snapshot, names='value')\n",
    "controller.buttons[3].observe(save_free_snapshot, names='value')"
   ]
  },
  {
   "cell_type": "markdown",
   "metadata": {},
   "source": [
    "## WIDGETS for Capture Data"
   ]
  },
  {
   "cell_type": "code",
   "execution_count": 16,
   "metadata": {},
   "outputs": [
    {
     "data": {
      "application/vnd.jupyter.widget-view+json": {
       "model_id": "5662d8e9e5cf4de79110d7fb9cb5263c",
       "version_major": 2,
       "version_minor": 0
      },
      "text/plain": [
       "Image(value=b'', format='jpeg', height='224', width='224')"
      ]
     },
     "metadata": {},
     "output_type": "display_data"
    }
   ],
   "source": [
    "image_widget = widgets.Image(format='jpeg', width=224, height=224)\n",
    "target_widget = widgets.Image(format='jpeg', width=224, height=224)\n",
    "traffic_count_widget = widgets.IntText(description='Traffic', value=len(glob.glob(os.path.join(traffic_dir, '*.jpg'))))\n",
    "blk_count_widget = widgets.IntText(description='Block', value=len(glob.glob(os.path.join(blocked_dir, '*.jpg'))))\n",
    "fre_count_widget = widgets.IntText(description='Free', value=len(glob.glob(os.path.join(free_dir, '*.jpg'))))\n",
    "x_slider = widgets.FloatSlider(min=-1.0, max=1.0, step=0.001, description='x')\n",
    "y_slider = widgets.FloatSlider(min=-1.0, max=1.0, step=0.001, description='y')\n",
    "display(image_widget)"
   ]
  },
  {
   "cell_type": "markdown",
   "metadata": {},
   "source": [
    "## LINK Up Widget, Robot, and Game Controller"
   ]
  },
  {
   "cell_type": "code",
   "execution_count": 17,
   "metadata": {},
   "outputs": [],
   "source": [
    "traitlets.dlink((camera, 'value'), (image_widget, 'value'), transform=bgr8_to_jpeg)\n",
    "traitlets.dlink((camera, 'value'), (target_widget, 'value'), transform=display_xy)     \n",
    "\n",
    "widgets.jsdlink((controller.axes[0], 'value'), (x_slider, 'value'))\n",
    "widgets.jsdlink((controller.axes[1], 'value'), (y_slider, 'value'))\n",
    "\n",
    "try: left_link\n",
    "except NameError: left_link = None\n",
    "if left_link:\n",
    "    left_link.unlink()\n",
    "left_link = traitlets.dlink((stearing, 'left_motor'), (robot.left_motor, 'value'))\n",
    "\n",
    "try: right_link\n",
    "except NameError: right_link = None\n",
    "if right_link:\n",
    "    right_link.unlink()\n",
    "right_link = traitlets.dlink((stearing, 'right_motor'), (robot.right_motor, 'value'))"
   ]
  },
  {
   "cell_type": "code",
   "execution_count": 18,
   "metadata": {},
   "outputs": [
    {
     "data": {
      "application/vnd.jupyter.widget-view+json": {
       "model_id": "30032926f0ab439085192b3887fa1235",
       "version_major": 2,
       "version_minor": 0
      },
      "text/plain": [
       "VBox(children=(HBox(children=(Image(value=b'\\xff\\xd8\\xff\\xe0\\x00\\x10JFIF\\x00\\x01\\x01\\x00\\x00\\x01\\x00\\x01\\x00\\x…"
      ]
     },
     "metadata": {},
     "output_type": "display_data"
    }
   ],
   "source": [
    "#display(widgets.HBox([image_widget, target_widget]), x_slider, y_slider)\n",
    "display(widgets.VBox([\n",
    "    widgets.HBox([target_widget,widgets.VBox([traffic_count_widget,blk_count_widget,fre_count_widget])]),\n",
    "    widgets.HBox([x_slider,y_slider])\n",
    "]))"
   ]
  },
  {
   "cell_type": "markdown",
   "metadata": {},
   "source": [
    "* L1: Red\n",
    "* R1: Amber\n",
    "* R2: Green\n",
    "* Y : Blocked\n",
    "* X : Free"
   ]
  },
  {
   "cell_type": "markdown",
   "metadata": {},
   "source": [
    "# Zip "
   ]
  },
  {
   "cell_type": "code",
   "execution_count": 14,
   "metadata": {},
   "outputs": [],
   "source": [
    "robot.stop()"
   ]
  },
  {
   "cell_type": "code",
   "execution_count": 3,
   "metadata": {},
   "outputs": [],
   "source": [
    "!zip -r -q dataset.zip {dataset_dir}"
   ]
  },
  {
   "cell_type": "code",
   "execution_count": 22,
   "metadata": {},
   "outputs": [],
   "source": []
  },
  {
   "cell_type": "code",
   "execution_count": null,
   "metadata": {},
   "outputs": [],
   "source": []
  }
 ],
 "metadata": {
  "kernelspec": {
   "display_name": "Python 3",
   "language": "python",
   "name": "python3"
  },
  "language_info": {
   "codemirror_mode": {
    "name": "ipython",
    "version": 3
   },
   "file_extension": ".py",
   "mimetype": "text/x-python",
   "name": "python",
   "nbconvert_exporter": "python",
   "pygments_lexer": "ipython3",
   "version": "3.6.9"
  }
 },
 "nbformat": 4,
 "nbformat_minor": 4
}
